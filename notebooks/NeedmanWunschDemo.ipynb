{
 "cells": [
  {
   "cell_type": "markdown",
   "id": "9d92b376",
   "metadata": {},
   "source": [
    " # Needleman Wunsch algorithm"
   ]
  },
  {
   "cell_type": "code",
   "execution_count": 76,
   "id": "3ec8e84e",
   "metadata": {},
   "outputs": [],
   "source": [
    "%reload_ext autoreload\n",
    "%autoreload 2\n",
    "\n",
    "import sys\n",
    "import os.path as osp\n",
    "\n",
    "SRC_SUBDIR = '../src/'\n",
    "SRC_SUBDIR = osp.abspath(SRC_SUBDIR)\n",
    "if SRC_SUBDIR not in sys.path:\n",
    "    print(f'Adding source directory to the sys.path: {SRC_SUBDIR!r}')\n",
    "    sys.path.insert(1, SRC_SUBDIR)"
   ]
  },
  {
   "cell_type": "code",
   "execution_count": 77,
   "id": "305f7391",
   "metadata": {},
   "outputs": [],
   "source": [
    "from features.needleman_wunsch import needleman_wunsch as nw\n",
    "from features.needleman_wunsch import initialise_grid, fill_scores, trace_through_alignment"
   ]
  },
  {
   "cell_type": "markdown",
   "id": "12e910cc",
   "metadata": {},
   "source": [
    "## Summary\n",
    "\n",
    "The Needleman-Wunsch algorithm, developed by Saul B. Needleman and Christian D. Wunsch and published in 1970, is a widely utilized tool in bioinformatics for aligning protein or nucleotide sequences. It stands as one of the pioneering applications of dynamic programming in comparing biological sequences. Beyond its origins in bioinformatics, this algorithm finds extensive application across various domains due to its versatility in comparing any two sequences of characters."
   ]
  },
  {
   "cell_type": "markdown",
   "id": "5a469846",
   "metadata": {},
   "source": [
    "## How to use? "
   ]
  },
  {
   "cell_type": "code",
   "execution_count": 78,
   "id": "2e1d6b86",
   "metadata": {},
   "outputs": [
    {
     "name": "stdout",
     "output_type": "stream",
     "text": [
      "G-ATTACA\n",
      "GCA-TGCU\n"
     ]
    }
   ],
   "source": [
    "# required parameters\n",
    "sequence_one = \"GATTACA\"\n",
    "sequence_two = \"GCATGCU\"\n",
    "\n",
    "# NW function call\n",
    "print(nw(sequence_one, sequence_two))"
   ]
  },
  {
   "cell_type": "markdown",
   "id": "737da222",
   "metadata": {},
   "source": [
    "## How it works?\n",
    "\n",
    "​To run the Needleman-Wunsch algorithm, two sequences of characters need to be provided along with default values for match, mismatch, and gap, where:\n",
    "\n",
    " - match/mismatch: value for a correct match or mismatch between characters\n",
    " - gap: represents the penalty for introducing a gap (or a space) in the sequence"
   ]
  },
  {
   "cell_type": "markdown",
   "id": "a1d66127",
   "metadata": {},
   "source": [
    "#### 1) Creating initial matrix\n",
    "\n",
    "Constructing a scores matrix, that ultimately stores the optimal score at each possible pair of characters. The first row and the first column is filled by subtracting the size of penalty (gap) starting from 0. \n",
    "\n",
    "$ \\text{scores}[i][0] = -i \\times \\text{gap} \\quad \\text{dla } i = 1, 2, ..., m $\n",
    "\n",
    "$ \\text{scores}[0][j] = -j \\times \\text{gap} \\quad \\text{dla } j = 1, 2, ..., n $"
   ]
  },
  {
   "cell_type": "code",
   "execution_count": 79,
   "id": "ba11813c",
   "metadata": {},
   "outputs": [
    {
     "name": "stdout",
     "output_type": "stream",
     "text": [
      "[[ 0. -1. -2. -3. -4. -5. -6. -7.]\n",
      " [-1.  0.  0.  0.  0.  0.  0.  0.]\n",
      " [-2.  0.  0.  0.  0.  0.  0.  0.]\n",
      " [-3.  0.  0.  0.  0.  0.  0.  0.]\n",
      " [-4.  0.  0.  0.  0.  0.  0.  0.]\n",
      " [-5.  0.  0.  0.  0.  0.  0.  0.]\n",
      " [-6.  0.  0.  0.  0.  0.  0.  0.]\n",
      " [-7.  0.  0.  0.  0.  0.  0.  0.]]\n"
     ]
    }
   ],
   "source": [
    "scores_grid = initialise_grid(sequence_one, sequence_two)\n",
    "print(scores_grid)"
   ]
  },
  {
   "cell_type": "markdown",
   "id": "4526c455",
   "metadata": {},
   "source": [
    "Calculating values in the result matrix:\n",
    "\n",
    "If sequence one is represented as X and sequence two as Y, then the matrix is filled based on the formula:\n",
    "\n",
    "$ \\text{scores}[i][j] = \\max \\{ \\\\\n",
    "    \\text{scores}[i-1][j-1] + \\text{match/mismatch} \\quad \\text{jeśli } X[i] = Y[j], \\\\\n",
    "    \\text{scores}[i-1][j] - \\text{gap} \\quad \\text{for gap in sequence } X, \\\\\n",
    "    \\text{scores}[i][j-1] - \\text{gap} \\quad \\text{for gap in sequence } Y \\\\\n",
    "\\} $\n"
   ]
  },
  {
   "cell_type": "markdown",
   "id": "3bab1f7a",
   "metadata": {},
   "source": [
    "#### 2) fill the scores\n",
    "\n",
    "The traceback matrix is filled, storing information about the operation that resulted in choosing the optimal score at each possible pair of characters. Based on the formula provided above, we have three possible outcomes. The matrix is filled with points depending on whether a match/mismatch, a gap in sequence X, or a gap in sequence Y was used."
   ]
  },
  {
   "cell_type": "code",
   "execution_count": 80,
   "id": "9381f024",
   "metadata": {},
   "outputs": [
    {
     "name": "stdout",
     "output_type": "stream",
     "text": [
      "\n",
      "\n",
      "Iteration: 0\n",
      "[[4. 4. 4. 4. 4. 4. 4. 4.]\n",
      " [3. 2. 4. 4. 4. 6. 4. 4.]\n",
      " [3. 0. 0. 0. 0. 0. 0. 0.]\n",
      " [3. 0. 0. 0. 0. 0. 0. 0.]\n",
      " [3. 0. 0. 0. 0. 0. 0. 0.]\n",
      " [3. 0. 0. 0. 0. 0. 0. 0.]\n",
      " [3. 0. 0. 0. 0. 0. 0. 0.]\n",
      " [3. 0. 0. 0. 0. 0. 0. 0.]]\n",
      "\n",
      "\n",
      "Iteration: 1\n",
      "[[4. 4. 4. 4. 4. 4. 4. 4.]\n",
      " [3. 2. 4. 4. 4. 6. 4. 4.]\n",
      " [3. 3. 2. 2. 4. 4. 4. 4.]\n",
      " [3. 0. 0. 0. 0. 0. 0. 0.]\n",
      " [3. 0. 0. 0. 0. 0. 0. 0.]\n",
      " [3. 0. 0. 0. 0. 0. 0. 0.]\n",
      " [3. 0. 0. 0. 0. 0. 0. 0.]\n",
      " [3. 0. 0. 0. 0. 0. 0. 0.]]\n",
      "\n",
      "\n",
      "Iteration: 2\n",
      "[[4. 4. 4. 4. 4. 4. 4. 4.]\n",
      " [3. 2. 4. 4. 4. 6. 4. 4.]\n",
      " [3. 3. 2. 2. 4. 4. 4. 4.]\n",
      " [3. 3. 5. 3. 2. 4. 4. 4.]\n",
      " [3. 0. 0. 0. 0. 0. 0. 0.]\n",
      " [3. 0. 0. 0. 0. 0. 0. 0.]\n",
      " [3. 0. 0. 0. 0. 0. 0. 0.]\n",
      " [3. 0. 0. 0. 0. 0. 0. 0.]]\n",
      "\n",
      "\n",
      "Iteration: 3\n",
      "[[4. 4. 4. 4. 4. 4. 4. 4.]\n",
      " [3. 2. 4. 4. 4. 6. 4. 4.]\n",
      " [3. 3. 2. 2. 4. 4. 4. 4.]\n",
      " [3. 3. 5. 3. 2. 4. 4. 4.]\n",
      " [3. 3. 5. 3. 5. 2. 6. 6.]\n",
      " [3. 0. 0. 0. 0. 0. 0. 0.]\n",
      " [3. 0. 0. 0. 0. 0. 0. 0.]\n",
      " [3. 0. 0. 0. 0. 0. 0. 0.]]\n",
      "\n",
      "\n",
      "Iteration: 4\n",
      "[[4. 4. 4. 4. 4. 4. 4. 4.]\n",
      " [3. 2. 4. 4. 4. 6. 4. 4.]\n",
      " [3. 3. 2. 2. 4. 4. 4. 4.]\n",
      " [3. 3. 5. 3. 2. 4. 4. 4.]\n",
      " [3. 3. 5. 3. 5. 2. 6. 6.]\n",
      " [3. 3. 5. 2. 3. 5. 2. 6.]\n",
      " [3. 0. 0. 0. 0. 0. 0. 0.]\n",
      " [3. 0. 0. 0. 0. 0. 0. 0.]]\n",
      "\n",
      "\n",
      "Iteration: 5\n",
      "[[4. 4. 4. 4. 4. 4. 4. 4.]\n",
      " [3. 2. 4. 4. 4. 6. 4. 4.]\n",
      " [3. 3. 2. 2. 4. 4. 4. 4.]\n",
      " [3. 3. 5. 3. 2. 4. 4. 4.]\n",
      " [3. 3. 5. 3. 5. 2. 6. 6.]\n",
      " [3. 3. 5. 2. 3. 5. 2. 6.]\n",
      " [3. 3. 2. 3. 3. 5. 2. 4.]\n",
      " [3. 0. 0. 0. 0. 0. 0. 0.]]\n",
      "\n",
      "\n",
      "Iteration: 6\n",
      "[[4. 4. 4. 4. 4. 4. 4. 4.]\n",
      " [3. 2. 4. 4. 4. 6. 4. 4.]\n",
      " [3. 3. 2. 2. 4. 4. 4. 4.]\n",
      " [3. 3. 5. 3. 2. 4. 4. 4.]\n",
      " [3. 3. 5. 3. 5. 2. 6. 6.]\n",
      " [3. 3. 5. 2. 3. 5. 2. 6.]\n",
      " [3. 3. 2. 3. 3. 5. 2. 4.]\n",
      " [3. 3. 3. 2. 7. 5. 3. 2.]]\n"
     ]
    }
   ],
   "source": [
    "pointers_to_trace_optimal_alignment = fill_scores(\n",
    "    scores_grid,\n",
    "    sequence_one,\n",
    "    sequence_two,\n",
    "    verbose=True)"
   ]
  },
  {
   "cell_type": "markdown",
   "id": "bbac8a74",
   "metadata": {},
   "source": [
    "#### 3)  Tracing back the best alignment\n",
    "\n",
    "The results are traced backward (starting from the end of the matrix) - thanks to filling the matrix 'pointers_to_trace_optimal_alignment' in the previous step, the algorithm knows the operation that led to the alignment, and this is information about which field to move to. The result of this process is a two sequences of characters, representing the best alignment with each other."
   ]
  },
  {
   "cell_type": "code",
   "execution_count": 81,
   "id": "1ebd67b8",
   "metadata": {},
   "outputs": [],
   "source": [
    "inverted_x_result, inverted_y_result = trace_through_alignment(pointers_to_trace_optimal_alignment,  \n",
    "                                                               sequence_one,\n",
    "                                                               sequence_two)\n"
   ]
  },
  {
   "cell_type": "markdown",
   "id": "4f6bd01b",
   "metadata": {},
   "source": [
    "#### 4) Result\n",
    "\n",
    "We get the final alignment by reversing the sequences obtained received the traceback process."
   ]
  },
  {
   "cell_type": "code",
   "execution_count": 82,
   "id": "1047b605",
   "metadata": {},
   "outputs": [
    {
     "name": "stdout",
     "output_type": "stream",
     "text": [
      "G-ATTACA\n",
      "GCA-TGCU\n"
     ]
    }
   ],
   "source": [
    "print(inverted_x_result)\n",
    "print(inverted_y_result)"
   ]
  }
 ],
 "metadata": {
  "kernelspec": {
   "display_name": "Python 3 (ipykernel)",
   "language": "python",
   "name": "python3"
  },
  "language_info": {
   "codemirror_mode": {
    "name": "ipython",
    "version": 3
   },
   "file_extension": ".py",
   "mimetype": "text/x-python",
   "name": "python",
   "nbconvert_exporter": "python",
   "pygments_lexer": "ipython3",
   "version": "3.12.2"
  }
 },
 "nbformat": 4,
 "nbformat_minor": 5
}
