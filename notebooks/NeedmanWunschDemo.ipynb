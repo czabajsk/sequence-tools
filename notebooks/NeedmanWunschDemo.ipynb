{
 "cells": [
  {
   "cell_type": "code",
   "execution_count": null,
   "id": "2946767a",
   "metadata": {},
   "outputs": [],
   "source": [
    "%reload_ext autoreload\n",
    "%autoreload 2\n",
    "\n",
    "import sys\n",
    "import os.path as osp\n",
    "\n",
    "SRC_SUBDIR = '../src/'\n",
    "SRC_SUBDIR = osp.abspath(SRC_SUBDIR)\n",
    "if SRC_SUBDIR not in sys.path:\n",
    "    print(f'Adding source directory to the sys.path: {SRC_SUBDIR!r}')\n",
    "    sys.path.insert(1, SRC_SUBDIR)"
   ]
  },
  {
   "cell_type": "code",
   "execution_count": null,
   "id": "305f7391",
   "metadata": {},
   "outputs": [],
   "source": [
    "from features.needleman_wunsch import needleman_wunsch as nw"
   ]
  },
  {
   "cell_type": "code",
   "execution_count": null,
   "id": "2e1d6b86",
   "metadata": {},
   "outputs": [],
   "source": [
    "x = \"GATTACA\"\n",
    "y = \"GCATGCU\"\n",
    "print(nw(x, y))"
   ]
  },
  {
   "cell_type": "code",
   "execution_count": null,
   "id": "b74e7f89",
   "metadata": {},
   "outputs": [],
   "source": []
  }
 ],
 "metadata": {
  "kernelspec": {
   "display_name": "Python 3 (ipykernel)",
   "language": "python",
   "name": "python3"
  },
  "language_info": {
   "codemirror_mode": {
    "name": "ipython",
    "version": 3
   },
   "file_extension": ".py",
   "mimetype": "text/x-python",
   "name": "python",
   "nbconvert_exporter": "python",
   "pygments_lexer": "ipython3",
   "version": "3.9.13"
  }
 },
 "nbformat": 4,
 "nbformat_minor": 5
}
