{
 "cells": [
  {
   "cell_type": "markdown",
   "id": "5ea0fb9a",
   "metadata": {},
   "source": [
    "# Needleman Wunsch algorithm"
   ]
  },
  {
   "cell_type": "code",
   "execution_count": 1,
   "id": "2946767a",
   "metadata": {},
   "outputs": [
    {
     "name": "stdout",
     "output_type": "stream",
     "text": [
      "Adding source directory to the sys.path: '/Users/joannaczabajska/PycharmProjects/sequence-tools/src'\n"
     ]
    }
   ],
   "source": [
    "%reload_ext autoreload\n",
    "%autoreload 2\n",
    "\n",
    "import sys\n",
    "import os.path as osp\n",
    "\n",
    "SRC_SUBDIR = \"../src/\"\n",
    "SRC_SUBDIR = osp.abspath(SRC_SUBDIR)\n",
    "if SRC_SUBDIR not in sys.path:\n",
    "    print(f\"Adding source directory to the sys.path: {SRC_SUBDIR!r}\")\n",
    "    sys.path.insert(1, SRC_SUBDIR)"
   ]
  },
  {
   "cell_type": "code",
   "execution_count": 2,
   "id": "305f7391",
   "metadata": {},
   "outputs": [],
   "source": [
    "from features.needleman_wunsch import needleman_wunsch as nw\n",
    "from features.needleman_wunsch import (\n",
    "    initialise_grid,\n",
    "    fill_scores,\n",
    "    trace_through_alignment,\n",
    ")"
   ]
  },
  {
   "cell_type": "markdown",
   "id": "1a3458cf",
   "metadata": {},
   "source": [
    "## Summary\n",
    "(cos z wikipedii ;) )"
   ]
  },
  {
   "cell_type": "markdown",
   "id": "c937be31",
   "metadata": {},
   "source": [
    "## How to use?"
   ]
  },
  {
   "cell_type": "code",
   "execution_count": 3,
   "id": "910a1a7b",
   "metadata": {},
   "outputs": [
    {
     "name": "stdout",
     "output_type": "stream",
     "text": [
      "G-ATTACA\n",
      "GCA-TGCU\n"
     ]
    }
   ],
   "source": [
    "sequence_one = \"GATTACA\"\n",
    "sequence_two = \"GCATGCU\"\n",
    "print(nw(sequence_one, sequence_two))"
   ]
  },
  {
   "cell_type": "markdown",
   "id": "bbb7a408",
   "metadata": {},
   "source": [
    "## How it works?"
   ]
  },
  {
   "cell_type": "markdown",
   "id": "6b87e78f",
   "metadata": {},
   "source": [
    "1) Creating initial matrix"
   ]
  },
  {
   "cell_type": "code",
   "execution_count": 4,
   "id": "9bb36af7",
   "metadata": {},
   "outputs": [],
   "source": [
    "scores_grid = initialise_grid(sequence_one, sequence_two)"
   ]
  },
  {
   "cell_type": "markdown",
   "id": "345cdc14",
   "metadata": {},
   "source": [
    "2) Fill the scores"
   ]
  },
  {
   "cell_type": "code",
   "execution_count": 5,
   "id": "a5873d9a",
   "metadata": {},
   "outputs": [
    {
     "name": "stdout",
     "output_type": "stream",
     "text": [
      "\n",
      "\n",
      "Iteration: 0\n",
      "[[4. 4. 4. 4. 4. 4. 4. 4.]\n",
      " [3. 2. 4. 4. 4. 6. 4. 4.]\n",
      " [3. 0. 0. 0. 0. 0. 0. 0.]\n",
      " [3. 0. 0. 0. 0. 0. 0. 0.]\n",
      " [3. 0. 0. 0. 0. 0. 0. 0.]\n",
      " [3. 0. 0. 0. 0. 0. 0. 0.]\n",
      " [3. 0. 0. 0. 0. 0. 0. 0.]\n",
      " [3. 0. 0. 0. 0. 0. 0. 0.]]\n",
      "\n",
      "\n",
      "Iteration: 1\n",
      "[[4. 4. 4. 4. 4. 4. 4. 4.]\n",
      " [3. 2. 4. 4. 4. 6. 4. 4.]\n",
      " [3. 3. 2. 2. 4. 4. 4. 4.]\n",
      " [3. 0. 0. 0. 0. 0. 0. 0.]\n",
      " [3. 0. 0. 0. 0. 0. 0. 0.]\n",
      " [3. 0. 0. 0. 0. 0. 0. 0.]\n",
      " [3. 0. 0. 0. 0. 0. 0. 0.]\n",
      " [3. 0. 0. 0. 0. 0. 0. 0.]]\n",
      "\n",
      "\n",
      "Iteration: 2\n",
      "[[4. 4. 4. 4. 4. 4. 4. 4.]\n",
      " [3. 2. 4. 4. 4. 6. 4. 4.]\n",
      " [3. 3. 2. 2. 4. 4. 4. 4.]\n",
      " [3. 3. 5. 3. 2. 4. 4. 4.]\n",
      " [3. 0. 0. 0. 0. 0. 0. 0.]\n",
      " [3. 0. 0. 0. 0. 0. 0. 0.]\n",
      " [3. 0. 0. 0. 0. 0. 0. 0.]\n",
      " [3. 0. 0. 0. 0. 0. 0. 0.]]\n",
      "\n",
      "\n",
      "Iteration: 3\n",
      "[[4. 4. 4. 4. 4. 4. 4. 4.]\n",
      " [3. 2. 4. 4. 4. 6. 4. 4.]\n",
      " [3. 3. 2. 2. 4. 4. 4. 4.]\n",
      " [3. 3. 5. 3. 2. 4. 4. 4.]\n",
      " [3. 3. 5. 3. 5. 2. 6. 6.]\n",
      " [3. 0. 0. 0. 0. 0. 0. 0.]\n",
      " [3. 0. 0. 0. 0. 0. 0. 0.]\n",
      " [3. 0. 0. 0. 0. 0. 0. 0.]]\n",
      "\n",
      "\n",
      "Iteration: 4\n",
      "[[4. 4. 4. 4. 4. 4. 4. 4.]\n",
      " [3. 2. 4. 4. 4. 6. 4. 4.]\n",
      " [3. 3. 2. 2. 4. 4. 4. 4.]\n",
      " [3. 3. 5. 3. 2. 4. 4. 4.]\n",
      " [3. 3. 5. 3. 5. 2. 6. 6.]\n",
      " [3. 3. 5. 2. 3. 5. 2. 6.]\n",
      " [3. 0. 0. 0. 0. 0. 0. 0.]\n",
      " [3. 0. 0. 0. 0. 0. 0. 0.]]\n",
      "\n",
      "\n",
      "Iteration: 5\n",
      "[[4. 4. 4. 4. 4. 4. 4. 4.]\n",
      " [3. 2. 4. 4. 4. 6. 4. 4.]\n",
      " [3. 3. 2. 2. 4. 4. 4. 4.]\n",
      " [3. 3. 5. 3. 2. 4. 4. 4.]\n",
      " [3. 3. 5. 3. 5. 2. 6. 6.]\n",
      " [3. 3. 5. 2. 3. 5. 2. 6.]\n",
      " [3. 3. 2. 3. 3. 5. 2. 4.]\n",
      " [3. 0. 0. 0. 0. 0. 0. 0.]]\n",
      "\n",
      "\n",
      "Iteration: 6\n",
      "[[4. 4. 4. 4. 4. 4. 4. 4.]\n",
      " [3. 2. 4. 4. 4. 6. 4. 4.]\n",
      " [3. 3. 2. 2. 4. 4. 4. 4.]\n",
      " [3. 3. 5. 3. 2. 4. 4. 4.]\n",
      " [3. 3. 5. 3. 5. 2. 6. 6.]\n",
      " [3. 3. 5. 2. 3. 5. 2. 6.]\n",
      " [3. 3. 2. 3. 3. 5. 2. 4.]\n",
      " [3. 3. 3. 2. 7. 5. 3. 2.]]\n"
     ]
    }
   ],
   "source": [
    "pointers_to_trace_optimal_alignment = fill_scores(\n",
    "    scores_grid, sequence_one, sequence_two, verbose=True\n",
    ")"
   ]
  },
  {
   "cell_type": "markdown",
   "id": "fa676d27",
   "metadata": {},
   "source": [
    "3) Tracing back the best alignment"
   ]
  },
  {
   "cell_type": "code",
   "execution_count": 6,
   "id": "b0cc09c5",
   "metadata": {},
   "outputs": [],
   "source": [
    "inverted_x_result, inverted_y_result = trace_through_alignment(\n",
    "    pointers_to_trace_optimal_alignment, sequence_one, sequence_two\n",
    ")"
   ]
  },
  {
   "cell_type": "markdown",
   "id": "429bd68a",
   "metadata": {},
   "source": [
    "4) Result"
   ]
  },
  {
   "cell_type": "code",
   "execution_count": 7,
   "id": "a85be037",
   "metadata": {},
   "outputs": [
    {
     "name": "stdout",
     "output_type": "stream",
     "text": [
      "G-ATTACA\n",
      "GCA-TGCU\n"
     ]
    }
   ],
   "source": [
    "print(inverted_x_result)\n",
    "print(inverted_y_result)"
   ]
  },
  {
   "cell_type": "code",
   "execution_count": null,
   "id": "2cf573dc",
   "metadata": {},
   "outputs": [],
   "source": []
  }
 ],
 "metadata": {
  "kernelspec": {
   "display_name": "Python 3 (ipykernel)",
   "language": "python",
   "name": "python3"
  },
  "language_info": {
   "codemirror_mode": {
    "name": "ipython",
    "version": 3
   },
   "file_extension": ".py",
   "mimetype": "text/x-python",
   "name": "python",
   "nbconvert_exporter": "python",
   "pygments_lexer": "ipython3",
   "version": "3.9.13"
  }
 },
 "nbformat": 4,
 "nbformat_minor": 5
}
